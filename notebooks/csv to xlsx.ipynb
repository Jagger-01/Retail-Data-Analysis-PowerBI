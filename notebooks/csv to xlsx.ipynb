{
 "cells": [
  {
   "cell_type": "code",
   "execution_count": 8,
   "id": "e05138ff-78d3-48ca-b858-13f0057f34ea",
   "metadata": {},
   "outputs": [
    {
     "name": "stdout",
     "output_type": "stream",
     "text": [
      "Number of rows in the CSV file: 293267\n",
      "Data successfully converted and saved as Excel to: ..\\data\\cleaned\\retail_data_cleaned.xlsx\n"
     ]
    }
   ],
   "source": [
    "import pandas as pd\n",
    "\n",
    "# Load the cleaned CSV file\n",
    "csv_file_path = r'..\\data\\cleaned\\retail_data_cleaned.csv'\n",
    "df = pd.read_csv(csv_file_path)\n",
    "\n",
    "# Print the number of rows to verify\n",
    "print(\"Number of rows in the CSV file:\", len(df))\n",
    "\n",
    "# Save the DataFrame as an Excel file\n",
    "excel_output_path = r'..\\data\\cleaned\\retail_data_cleaned.xlsx'\n",
    "df.to_excel(excel_output_path, index=False, engine='openpyxl')\n",
    "\n",
    "print(f\"Data successfully converted and saved as Excel to: {excel_output_path}\")\n"
   ]
  }
 ],
 "metadata": {
  "kernelspec": {
   "display_name": "Python 3 (ipykernel)",
   "language": "python",
   "name": "python3"
  },
  "language_info": {
   "codemirror_mode": {
    "name": "ipython",
    "version": 3
   },
   "file_extension": ".py",
   "mimetype": "text/x-python",
   "name": "python",
   "nbconvert_exporter": "python",
   "pygments_lexer": "ipython3",
   "version": "3.10.6"
  }
 },
 "nbformat": 4,
 "nbformat_minor": 5
}
